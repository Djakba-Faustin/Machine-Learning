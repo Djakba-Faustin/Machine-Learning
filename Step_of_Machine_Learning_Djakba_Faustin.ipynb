{
 "cells": [
  {
   "cell_type": "markdown",
   "id": "13f4677f",
   "metadata": {},
   "source": [
    "# Module 2: Data in Cybersecurity"
   ]
  },
  {
   "cell_type": "markdown",
   "id": "87a39a13",
   "metadata": {},
   "source": [
    "## 1. Sources of Cybersecurity Data\n",
    "Typical sources of data used in cybersecurity include:"
   ]
  },
  {
   "cell_type": "code",
   "execution_count": 1,
   "id": "f21a2831",
   "metadata": {},
   "outputs": [
    {
     "data": {
      "text/html": [
       "<div>\n",
       "<style scoped>\n",
       "    .dataframe tbody tr th:only-of-type {\n",
       "        vertical-align: middle;\n",
       "    }\n",
       "\n",
       "    .dataframe tbody tr th {\n",
       "        vertical-align: top;\n",
       "    }\n",
       "\n",
       "    .dataframe thead th {\n",
       "        text-align: right;\n",
       "    }\n",
       "</style>\n",
       "<table border=\"1\" class=\"dataframe\">\n",
       "  <thead>\n",
       "    <tr style=\"text-align: right;\">\n",
       "      <th></th>\n",
       "      <th>timestamp</th>\n",
       "      <th>source_ip</th>\n",
       "      <th>destination_ip</th>\n",
       "      <th>bytes_sent</th>\n",
       "      <th>protocol</th>\n",
       "      <th>attack_flag</th>\n",
       "    </tr>\n",
       "  </thead>\n",
       "  <tbody>\n",
       "    <tr>\n",
       "      <th>0</th>\n",
       "      <td>2023-01-01 00:00:00</td>\n",
       "      <td>192.168.1.1</td>\n",
       "      <td>8.8.8.8</td>\n",
       "      <td>500</td>\n",
       "      <td>TCP</td>\n",
       "      <td>0</td>\n",
       "    </tr>\n",
       "    <tr>\n",
       "      <th>1</th>\n",
       "      <td>2023-01-01 00:01:00</td>\n",
       "      <td>10.0.0.2</td>\n",
       "      <td>8.8.4.4</td>\n",
       "      <td>300</td>\n",
       "      <td>UDP</td>\n",
       "      <td>0</td>\n",
       "    </tr>\n",
       "    <tr>\n",
       "      <th>2</th>\n",
       "      <td>2023-01-01 00:02:00</td>\n",
       "      <td>172.16.0.3</td>\n",
       "      <td>1.1.1.1</td>\n",
       "      <td>1200</td>\n",
       "      <td>tcp</td>\n",
       "      <td>1</td>\n",
       "    </tr>\n",
       "    <tr>\n",
       "      <th>3</th>\n",
       "      <td>2023-01-01 00:03:00</td>\n",
       "      <td>192.168.1.1</td>\n",
       "      <td>8.8.8.8</td>\n",
       "      <td>None</td>\n",
       "      <td>TCP</td>\n",
       "      <td>0</td>\n",
       "    </tr>\n",
       "    <tr>\n",
       "      <th>4</th>\n",
       "      <td>2023-01-01 00:04:00</td>\n",
       "      <td>10.0.0.2</td>\n",
       "      <td>8.8.4.4</td>\n",
       "      <td>450</td>\n",
       "      <td>udp</td>\n",
       "      <td>0</td>\n",
       "    </tr>\n",
       "    <tr>\n",
       "      <th>5</th>\n",
       "      <td>2023-01-01 00:05:00</td>\n",
       "      <td>192.168.1.1</td>\n",
       "      <td>1.0.0.1</td>\n",
       "      <td>0</td>\n",
       "      <td>None</td>\n",
       "      <td>0</td>\n",
       "    </tr>\n",
       "    <tr>\n",
       "      <th>6</th>\n",
       "      <td>2023-01-01 00:06:00</td>\n",
       "      <td>10.0.0.2</td>\n",
       "      <td>8.8.4.4</td>\n",
       "      <td>999999</td>\n",
       "      <td>TCP</td>\n",
       "      <td>1</td>\n",
       "    </tr>\n",
       "    <tr>\n",
       "      <th>7</th>\n",
       "      <td>2023-01-01 00:07:00</td>\n",
       "      <td>172.16.0.3</td>\n",
       "      <td>1.1.1.1</td>\n",
       "      <td>700</td>\n",
       "      <td>TCP</td>\n",
       "      <td>0</td>\n",
       "    </tr>\n",
       "    <tr>\n",
       "      <th>8</th>\n",
       "      <td>2023-01-01 00:08:00</td>\n",
       "      <td>192.168.1.1</td>\n",
       "      <td>1.1.1.1</td>\n",
       "      <td>350</td>\n",
       "      <td>UDP</td>\n",
       "      <td>1</td>\n",
       "    </tr>\n",
       "    <tr>\n",
       "      <th>9</th>\n",
       "      <td>2023-01-01 00:09:00</td>\n",
       "      <td>INVALID_IP</td>\n",
       "      <td>8.8.8.8</td>\n",
       "      <td>400</td>\n",
       "      <td>ICMP</td>\n",
       "      <td>1</td>\n",
       "    </tr>\n",
       "    <tr>\n",
       "      <th>10</th>\n",
       "      <td>None</td>\n",
       "      <td>10.0.0.2</td>\n",
       "      <td></td>\n",
       "      <td>NaN</td>\n",
       "      <td></td>\n",
       "      <td>1</td>\n",
       "    </tr>\n",
       "  </tbody>\n",
       "</table>\n",
       "</div>"
      ],
      "text/plain": [
       "              timestamp    source_ip destination_ip bytes_sent protocol  \\\n",
       "0   2023-01-01 00:00:00  192.168.1.1        8.8.8.8        500      TCP   \n",
       "1   2023-01-01 00:01:00     10.0.0.2        8.8.4.4        300      UDP   \n",
       "2   2023-01-01 00:02:00   172.16.0.3        1.1.1.1       1200      tcp   \n",
       "3   2023-01-01 00:03:00  192.168.1.1        8.8.8.8       None      TCP   \n",
       "4   2023-01-01 00:04:00     10.0.0.2        8.8.4.4        450      udp   \n",
       "5   2023-01-01 00:05:00  192.168.1.1        1.0.0.1          0     None   \n",
       "6   2023-01-01 00:06:00     10.0.0.2        8.8.4.4     999999      TCP   \n",
       "7   2023-01-01 00:07:00   172.16.0.3        1.1.1.1        700      TCP   \n",
       "8   2023-01-01 00:08:00  192.168.1.1        1.1.1.1        350      UDP   \n",
       "9   2023-01-01 00:09:00   INVALID_IP        8.8.8.8        400     ICMP   \n",
       "10                 None     10.0.0.2                       NaN            \n",
       "\n",
       "    attack_flag  \n",
       "0             0  \n",
       "1             0  \n",
       "2             1  \n",
       "3             0  \n",
       "4             0  \n",
       "5             0  \n",
       "6             1  \n",
       "7             0  \n",
       "8             1  \n",
       "9             1  \n",
       "10            1  "
      ]
     },
     "execution_count": 1,
     "metadata": {},
     "output_type": "execute_result"
    }
   ],
   "source": [
    "# Simulate raw cybersecurity log data\n",
    "import pandas as pd\n",
    "import numpy as np\n",
    "\n",
    "np.random.seed(42)\n",
    "\n",
    "data = {\n",
    "    'timestamp': pd.date_range(start='2023-01-01 00:00:00', periods=10, freq='min').astype(str).tolist() + [None],\n",
    "    'source_ip': ['192.168.1.1', '10.0.0.2', '172.16.0.3', '192.168.1.1', '10.0.0.2', \n",
    "                  '192.168.1.1', '10.0.0.2', '172.16.0.3', '192.168.1.1', 'INVALID_IP', '10.0.0.2'],\n",
    "    'destination_ip': ['8.8.8.8', '8.8.4.4', '1.1.1.1', '8.8.8.8', '8.8.4.4', \n",
    "                       '1.0.0.1', '8.8.4.4', '1.1.1.1', '1.1.1.1', '8.8.8.8', ''],\n",
    "    'bytes_sent': [500, 300, 1200, None, 450, 0, 999999, 700, 350, 400, 'NaN'],\n",
    "    'protocol': ['TCP', 'UDP', 'tcp', 'TCP', 'udp', None, 'TCP', 'TCP', 'UDP', 'ICMP', ''],\n",
    "    'attack_flag': [0, 0, 1, 0, 0, 0, 1, 0, 1, 1, 1]  # binary label for classification\n",
    "}\n",
    "\n",
    "logs_df = pd.DataFrame(data)\n",
    "logs_df"
   ]
  },
  {
   "cell_type": "markdown",
   "id": "15688a59",
   "metadata": {},
   "source": [
    "## Step 1: Data Profiling"
   ]
  },
  {
   "cell_type": "code",
   "execution_count": 2,
   "id": "00bc046e",
   "metadata": {},
   "outputs": [
    {
     "name": "stdout",
     "output_type": "stream",
     "text": [
      "Basic Info:\n",
      "<class 'pandas.core.frame.DataFrame'>\n",
      "RangeIndex: 11 entries, 0 to 10\n",
      "Data columns (total 6 columns):\n",
      " #   Column          Non-Null Count  Dtype \n",
      "---  ------          --------------  ----- \n",
      " 0   timestamp       10 non-null     object\n",
      " 1   source_ip       11 non-null     object\n",
      " 2   destination_ip  11 non-null     object\n",
      " 3   bytes_sent      10 non-null     object\n",
      " 4   protocol        10 non-null     object\n",
      " 5   attack_flag     11 non-null     int64 \n",
      "dtypes: int64(1), object(5)\n",
      "memory usage: 660.0+ bytes\n",
      "None\n",
      "\n",
      "Descriptive Statistics:\n",
      "                  timestamp    source_ip destination_ip  bytes_sent protocol  \\\n",
      "count                    10           11             11        10.0       10   \n",
      "unique                   10            4              5        10.0        6   \n",
      "top     2023-01-01 00:00:00  192.168.1.1        8.8.8.8       500.0      TCP   \n",
      "freq                      1            4              3         1.0        4   \n",
      "mean                    NaN          NaN            NaN         NaN      NaN   \n",
      "std                     NaN          NaN            NaN         NaN      NaN   \n",
      "min                     NaN          NaN            NaN         NaN      NaN   \n",
      "25%                     NaN          NaN            NaN         NaN      NaN   \n",
      "50%                     NaN          NaN            NaN         NaN      NaN   \n",
      "75%                     NaN          NaN            NaN         NaN      NaN   \n",
      "max                     NaN          NaN            NaN         NaN      NaN   \n",
      "\n",
      "        attack_flag  \n",
      "count     11.000000  \n",
      "unique          NaN  \n",
      "top             NaN  \n",
      "freq            NaN  \n",
      "mean       0.454545  \n",
      "std        0.522233  \n",
      "min        0.000000  \n",
      "25%        0.000000  \n",
      "50%        0.000000  \n",
      "75%        1.000000  \n",
      "max        1.000000  \n",
      "\n",
      "Missing Values:\n",
      "timestamp         1\n",
      "source_ip         0\n",
      "destination_ip    0\n",
      "bytes_sent        1\n",
      "protocol          1\n",
      "attack_flag       0\n",
      "dtype: int64\n",
      "\n",
      "Unique values in each column:\n",
      "timestamp         10\n",
      "source_ip          4\n",
      "destination_ip     5\n",
      "bytes_sent        10\n",
      "protocol           6\n",
      "attack_flag        2\n",
      "dtype: int64\n"
     ]
    }
   ],
   "source": [
    "# Profile the dataset\n",
    "print(\"Basic Info:\")\n",
    "print(logs_df.info())\n",
    "\n",
    "print(\"\\nDescriptive Statistics:\")\n",
    "print(logs_df.describe(include='all'))\n",
    "\n",
    "print(\"\\nMissing Values:\")\n",
    "print(logs_df.isnull().sum())\n",
    "\n",
    "print(\"\\nUnique values in each column:\")\n",
    "print(logs_df.nunique())\n"
   ]
  },
  {
   "cell_type": "code",
   "execution_count": 3,
   "id": "c585e8b0",
   "metadata": {},
   "outputs": [
    {
     "data": {
      "image/png": "[encoded data removed]",
      "text/plain": [
       "<Figure size 640x480 with 1 Axes>"
      ]
     },
     "metadata": {},
     "output_type": "display_data"
    }
   ],
   "source": [
    "# Visualize Attack distribution\n",
    "import matplotlib.pyplot as plt\n",
    "import seaborn as sns\n",
    "\n",
    "sns.countplot(x='attack_flag', data=logs_df)\n",
    "plt.title('Class Distribution (0 = Benign, 1 = Attack)')\n",
    "plt.show()"
   ]
  },
  {
   "cell_type": "markdown",
   "id": "94699b55",
   "metadata": {},
   "source": [
    "## Step 2: Data Cleaning"
   ]
  },
  {
   "cell_type": "code",
   "execution_count": null,
   "id": "25287788",
   "metadata": {},
   "outputs": [],
   "source": [
    "# Clean data (fix types, missing values, invalid entries)\n",
    "logs_df['timestamp'] = pd.to_datetime(logs_df['timestamp'], errors='coerce')\n",
    "logs_df['bytes_sent'] = pd.to_numeric(logs_df['bytes_sent'], errors='coerce')\n",
    "\n",
    "# Replace empty strings and inconsistent protocol names\n",
    "logs_df['protocol'] = logs_df['protocol'].str.upper().replace('', np.nan)\n",
    "logs_df['destination_ip'] = logs_df['destination_ip'].replace('', np.nan)\n",
    "\n",
    "# Drop rows with critical missing or invalid IP\n",
    "logs_df = logs_df[logs_df['source_ip'].str.match(r'^\\d{1,3}(\\.\\d{1,3}){3}$', na=False)]\n",
    "logs_df = logs_df.dropna(subset=['timestamp', 'destination_ip', 'protocol', 'bytes_sent'])\n",
    "\n",
    "logs_df.reset_index(drop=True, inplace=True)\n",
    "logs_df\n"
   ]
  },
  {
   "cell_type": "code",
   "execution_count": null,
   "id": "fe890af1",
   "metadata": {},
   "outputs": [],
   "source": [
    "# Plot the distribution of bytes_sent\n",
    "import matplotlib.pyplot as plt\n",
    "import seaborn as sns\n",
    "\n",
    "plt.figure(figsize=(8, 5))\n",
    "sns.histplot(logs_df['bytes_sent'], bins=10, kde=True)\n",
    "plt.title('Distribution of Bytes Sent')\n",
    "plt.xlabel('Bytes Sent')\n",
    "plt.ylabel('Frequency')\n",
    "plt.grid(True)\n",
    "plt.tight_layout()\n",
    "plt.show()"
   ]
  },
  {
   "cell_type": "code",
   "execution_count": null,
   "id": "a8cb2674",
   "metadata": {},
   "outputs": [],
   "source": [
    "# Optional: Log-transformed version\n",
    "plt.figure(figsize=(8, 5))\n",
    "sns.histplot(np.log1p(logs_df['bytes_sent']), bins=10, kde=True)\n",
    "plt.title('Log-Transformed Distribution of Bytes Sent')\n",
    "plt.xlabel('log(Bytes Sent + 1)')\n",
    "plt.ylabel('Frequency')\n",
    "plt.grid(True)\n",
    "plt.tight_layout()\n",
    "plt.show()\n"
   ]
  },
  {
   "cell_type": "markdown",
   "id": "80d9d7b2",
   "metadata": {},
   "source": [
    "## Step 3: Data Transformation"
   ]
  },
  {
   "cell_type": "code",
   "execution_count": null,
   "id": "6a384220",
   "metadata": {},
   "outputs": [],
   "source": [
    "# Transform data (feature engineering)\n",
    "logs_df['hour'] = logs_df['timestamp'].dt.hour\n",
    "logs_df['minute'] = logs_df['timestamp'].dt.minute\n",
    "logs_df['bytes_log'] = np.log1p(logs_df['bytes_sent'])  # log-transform\n",
    "\n",
    "# Encode protocol\n",
    "logs_df = pd.get_dummies(logs_df, columns=['protocol'], prefix='proto')\n",
    "\n",
    "logs_df"
   ]
  },
  {
   "cell_type": "markdown",
   "id": "4fbece6c",
   "metadata": {},
   "source": [
    "## Step 4: Data Reduction"
   ]
  },
  {
   "cell_type": "code",
   "execution_count": null,
   "id": "45843781",
   "metadata": {},
   "outputs": [],
   "source": [
    "# Cell 4: Reduce features (example: PCA on numeric fields)\n",
    "from sklearn.decomposition import PCA\n",
    "from sklearn.preprocessing import StandardScaler\n",
    "\n",
    "features = ['bytes_sent', 'hour', 'minute', 'bytes_log']\n",
    "X = logs_df[features]\n",
    "\n",
    "# Standardize\n",
    "scaler = StandardScaler()\n",
    "X_scaled = scaler.fit_transform(X)\n",
    "\n",
    "# Apply PCA\n",
    "pca = PCA(n_components=2)\n",
    "X_pca = pca.fit_transform(X_scaled)\n",
    "\n",
    "# Add back to dataframe\n",
    "logs_df['pca_1'] = X_pca[:, 0]\n",
    "logs_df['pca_2'] = X_pca[:, 1]\n",
    "\n",
    "logs_df[['pca_1', 'pca_2']]"
   ]
  },
  {
   "cell_type": "markdown",
   "id": "66699a91",
   "metadata": {},
   "source": [
    "## Step 5: Data Enrichment"
   ]
  },
  {
   "cell_type": "code",
   "execution_count": null,
   "id": "94dc82e0",
   "metadata": {},
   "outputs": [],
   "source": [
    "# Enrich data with IP-based metadata (dummy example)\n",
    "ip_region_map = {\n",
    "    '192.168.1.1': 'Local',\n",
    "    '10.0.0.2': 'CorpNet',\n",
    "    '172.16.0.3': 'DMZ'\n",
    "}\n",
    "logs_df['source_region'] = logs_df['source_ip'].map(ip_region_map).fillna('Unknown')\n",
    "\n",
    "logs_df"
   ]
  },
  {
   "cell_type": "markdown",
   "id": "ae736344",
   "metadata": {},
   "source": [
    "## Step 6: Data Validation"
   ]
  },
  {
   "cell_type": "code",
   "execution_count": null,
   "id": "b1b43121",
   "metadata": {},
   "outputs": [],
   "source": [
    "# Cell 6: Validate final data\n",
    "assert logs_df['bytes_sent'].min() >= 0, \"❌ Negative bytes sent!\"\n",
    "assert logs_df['timestamp'].notnull().all(), \"❌ Missing timestamps!\"\n",
    "assert logs_df['proto_TCP'].sum() + logs_df['proto_UDP'].sum()  == len(logs_df), \"❌ Protocol encoding mismatch!\"\n",
    "\n",
    "print(\"✅ Data validation passed.\")\n"
   ]
  }
 ],
 "metadata": {
  "kernelspec": {
   "display_name": "ml_cybersecurity",
   "language": "python",
   "name": "python3"
  },
  "language_info": {
   "codemirror_mode": {
    "name": "ipython",
    "version": 3
   },
   "file_extension": ".py",
   "mimetype": "text/x-python",
   "name": "python",
   "nbconvert_exporter": "python",
   "pygments_lexer": "ipython3",
   "version": "3.11.11"
  }
 },
 "nbformat": 4,
 "nbformat_minor": 5
}
